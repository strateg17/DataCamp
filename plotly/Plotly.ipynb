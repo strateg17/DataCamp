{
 "metadata": {
  "language_info": {
   "codemirror_mode": {
    "name": "ipython",
    "version": 3
   },
   "file_extension": ".py",
   "mimetype": "text/x-python",
   "name": "python",
   "nbconvert_exporter": "python",
   "pygments_lexer": "ipython3",
   "version": 3
  },
  "orig_nbformat": 2
 },
 "nbformat": 4,
 "nbformat_minor": 2,
 "cells": [
  {
   "source": [
    "# General plotly "
   ],
   "cell_type": "markdown",
   "metadata": {}
  },
  {
   "cell_type": "code",
   "execution_count": null,
   "metadata": {},
   "outputs": [],
   "source": [
    "import plotly.express as px"
   ]
  },
  {
   "cell_type": "code",
   "execution_count": null,
   "metadata": {},
   "outputs": [],
   "source": [
    "# scatter plot\n",
    "fig  = px.scatter(\n",
    "        data_frame=penguins,\n",
    "        x='Body Mass (g)',\n",
    "        y='Flipper Lenght (mm)'\n",
    ")\n",
    "\n",
    "fig.show()"
   ]
  },
  {
   "cell_type": "code",
   "execution_count": null,
   "metadata": {},
   "outputs": [],
   "source": [
    "# Line chart\n",
    "fig - px.line(\n",
    "    data_frame=msft_stock,\n",
    "    x='Date',\n",
    "    y='Open',\n",
    "    title='MSFT Stock Price (5Y)')\n",
    "fig.show()"
   ]
  },
  {
   "cell_type": "code",
   "execution_count": null,
   "metadata": {},
   "outputs": [],
   "source": [
    "import plotly.graph_object as go"
   ]
  },
  {
   "cell_type": "code",
   "execution_count": null,
   "metadata": {},
   "outputs": [],
   "source": [
    "#Correlation plot\n",
    "fig = go.Figure(go.Heatmap(\n",
    "        x=cr.columns,\n",
    "        y=cr.columns,\n",
    "        z=cr.values.tolist(),\n",
    "        colorscale='rdylgn',\n",
    "        zmin=-1,\n",
    "        zmax=1))\n",
    "fig.show()"
   ]
  },
  {
   "cell_type": "code",
   "execution_count": null,
   "metadata": {},
   "outputs": [],
   "source": [
    "# Building a scatterplot with specific colors\n",
    "# Set up the color map\n",
    "color_map = {'Adelie': 'rgb(235,52,52)' , 'Gentoo': 'rgb(235,149,52)', 'Chinstrap': 'rgb(67,52,235)'}\n",
    "\n",
    "# Create a scatterplot\n",
    "fig = px.scatter(data_frame=penguins, title=\"Penguin Culmen Statistics\",\n",
    "    x='Culmen Length (mm)',\n",
    "    y='Culmen Depth (mm)',\n",
    "    # Set the colors to use your color map\n",
    "    color='Species',\n",
    "    color_discrete_map=color_map\n",
    ")\n",
    "\n",
    "# Show your work\n",
    "fig.show()"
   ]
  },
  {
   "cell_type": "code",
   "execution_count": null,
   "metadata": {},
   "outputs": [],
   "source": [
    "# Feature correlation plot\n",
    "# Create a correlation table with pandas\n",
    "penguin_corr = penguins.corr(method='pearson')\n",
    "\n",
    "# Set up the correlation plot\n",
    "fig = go.Figure(go.Heatmap(\n",
    "  \t\t# Set the appropriate x, y and z values\n",
    "        z=penguin_corr.values.tolist(),\n",
    "        x=penguin_corr.columns,\n",
    "        y=penguin_corr.columns,\n",
    "  \t\t# Set the color scale,\n",
    "        colorscale='rdylgn', \n",
    "  \t\t# Set min and max values\n",
    "        zmin=-1, zmax=1))\n",
    "\n",
    "# Show the plot\n",
    "fig.show()"
   ]
  },
  {
   "source": [
    "# Legend, annotation and axis format"
   ],
   "cell_type": "markdown",
   "metadata": {}
  },
  {
   "cell_type": "code",
   "execution_count": null,
   "metadata": {},
   "outputs": [],
   "source": [
    "# Create the scatterplot with legend\n",
    "fig = px.scatter(\n",
    "        data_frame=life_gdp, \n",
    "        x=\"Life expectancy\", \n",
    "        y=\"GDP Per Capita\", color='Continent')\n",
    "\n",
    "# Create the legend\n",
    "my_legend = {'x': 0.2, 'y': 0.95, \n",
    "            'bgcolor': 'rgb(60, 240, 201)',     'borderwidth': 5}\n",
    "\n",
    "# Update the figure\n",
    "fig.update_layout({'showlegend': True, 'legend': my_legend})\n",
    "\n",
    "# Show the plot\n",
    "fig.show()"
   ]
  },
  {
   "cell_type": "code",
   "execution_count": null,
   "metadata": {},
   "outputs": [],
   "source": [
    "# Create the scatterplot\n",
    "fig = px.scatter(\n",
    "  data_frame=life_gdp, \n",
    "  x='Life expectancy', \n",
    "  y='GDP Per Capita',\n",
    "  color='Continent',\n",
    "  # Add columns to the hover information\n",
    "  hover_data=['Continent', 'Life expectancy', 'GDP Per Capita'],\n",
    "  # Add bold variable in hover information\n",
    "  hover_name='Country'\n",
    ")\n",
    "\n",
    "# Show the plot\n",
    "fig.show()"
   ]
  },
  {
   "cell_type": "code",
   "execution_count": null,
   "metadata": {},
   "outputs": [],
   "source": [
    "# Create the first annotation\n",
    "loss_annotation = {'x': 10, 'y': 400, 'showarrow': True, 'arrowhead': 4,\n",
    "                    'font': {'color': 'black'}, 'text': \"Urgent House Repairs\"}\n",
    "\n",
    "# Create the second annotation\n",
    "gain_annotation = {'x': 18, 'y': 2500, 'showarrow': True, 'arrowhead': 4,\n",
    "                    'font': {'color': 'black'}, 'text': \"New Job!\"}\n",
    "\n",
    "# Add annotations to the figure\n",
    "fig.update_layout({'annotations': [loss_annotation, gain_annotation]})\n",
    "\n",
    "# Show the plot!\n",
    "fig.show()"
   ]
  },
  {
   "cell_type": "code",
   "execution_count": null,
   "metadata": {},
   "outputs": [],
   "source": [
    "# Get and format today's date\n",
    "today = datetime.today().strftime('%A')\n",
    "\n",
    "# Create the message_annotation\n",
    "message_annotation = {\n",
    "  # Set the correct coordinates\n",
    "  'x': 0.5, 'y': 0.95, 'xref': 'paper', 'yref': 'paper',\n",
    "  # Set format the text and box\n",
    "  'text': f'Have a Happy {today} :)',\n",
    "  'font': {'size': 20, 'color': 'white'},\n",
    "  'bgcolor': 'rgb(237, 64, 200)', 'showarrow': False}\n",
    "\n",
    "# Update the figure layout and show\n",
    "fig.update_layout({'annotations': [message_annotation]})\n",
    "fig.show()"
   ]
  },
  {
   "cell_type": "code",
   "execution_count": null,
   "metadata": {},
   "outputs": [],
   "source": [
    "# Create and show the plot\n",
    "fig = px.scatter(\n",
    "  data_frame=bball_data,\n",
    "  x='PPG', \n",
    "  y='FGP',\n",
    "  title='Field Goal Percentage vs. Points Per Game')\n",
    "fig.show()\n",
    "\n",
    "# Update the x_axis range\n",
    "fig.update_layout({'xaxis': {'range': [0, bball_data['PPG'].max() + 5]}})\n",
    "fig.show()\n",
    "\n",
    "# Update the y_axis range\n",
    "fig.update_layout({'yaxis': {'range' : [0, 100]}})\n",
    "fig.show()"
   ]
  },
  {
   "cell_type": "code",
   "execution_count": null,
   "metadata": {},
   "outputs": [],
   "source": [
    "# Create timestamp\n",
    "timestamp = datetime.now()\n",
    "\n",
    "# Create plot\n",
    "fig = px.bar(penguins, x=\"spec\", y=\"av_flip_length\", color=\"spec\", title=\"Flipper Length (mm) by Species\")\n",
    "\n",
    "# Change the axis titles\n",
    "fig.update_layout({'xaxis': {'title': {'text': 'Species'}},\n",
    "                  'yaxis': {'title': {'text': 'Average Flipper Length (mm)'}}})\n",
    "\n",
    "# Add an annotation and show\n",
    "fig.update_layout({'annotations': [{\n",
    "  \"text\": f\"This graph was generated at {timestamp}\", \n",
    "  \"showarrow\": False, \"x\": 0.5, \"y\": 1.1, \"xref\": \"paper\", \"yref\": \"paper\"}]})\n",
    "fig.show()"
   ]
  },
  {
   "source": [
    "# Subplots"
   ],
   "cell_type": "markdown",
   "metadata": {}
  },
  {
   "source": [
    "## Diffenret subplots on different charts"
   ],
   "cell_type": "markdown",
   "metadata": {}
  },
  {
   "cell_type": "code",
   "execution_count": null,
   "metadata": {},
   "outputs": [],
   "source": [
    "# Set up the subplots grid\n",
    "fig = make_subplots(rows=2, cols=2, \n",
    "                    # Set the subplot titles\n",
    "                    subplot_titles=['Tech', 'Professional Services', 'Retail', 'Oil'])\n",
    "\n",
    "# Add the Tech trace\n",
    "fig.add_trace(go.Box(x=df_tech.Revenue, name='', showlegend=False), row=1, col=1)\n",
    "# Add the Professional Services trace\n",
    "fig.add_trace(go.Box(x=df_prof_serve.Revenue, name='', showlegend=False), row=1, col=2)\n",
    "# Add the Retail trace\n",
    "fig.add_trace(go.Box(x=df_retail.Revenue, name='', showlegend=False), row=2, col=1)\n",
    "# Add the Oil trace\n",
    "fig.add_trace(go.Box(x=df_oil.Revenue, name='', showlegend=False), row=2, col=2)"
   ]
  },
  {
   "cell_type": "code",
   "execution_count": null,
   "metadata": {},
   "outputs": [],
   "source": [
    "# Create the subplots\n",
    "fig = make_subplots(rows=3, cols=1, shared_xaxes=True)\n",
    "\n",
    "# Loop through the industries\n",
    "row_num = 1\n",
    "for industry in ['Tech', 'Retail', 'Professional Services']:\n",
    "    df = revenues[revenues.Industry == industry]\n",
    "    # Add a histogram using subsetted df\n",
    "    fig.add_trace(go.Histogram(x=df['Revenue'], name=industry),\n",
    "    # Position the trace\n",
    "    row=row_num, col=1)\n",
    "    row_num +=1\n",
    "\n",
    "# Show the plot\n",
    "fig.show()"
   ]
  },
  {
   "source": [
    "## Diffent subplots on one chart"
   ],
   "cell_type": "markdown",
   "metadata": {}
  },
  {
   "cell_type": "code",
   "execution_count": null,
   "metadata": {},
   "outputs": [],
   "source": [
    "# Create the base figure\n",
    "fig = go.Figure()\n",
    "\n",
    "# Loop through the species\n",
    "for species in ['Adelie', 'Chinstrap', 'Gentoo']:\n",
    "  # Add a bar chart trace\n",
    "  fig.add_trace(go.Bar(x=islands,\n",
    "    # Set the appropriate y subset and name\n",
    "    y=penguins_grouped[penguins_grouped.Species == species]['Count'],\n",
    "    name=species))\n",
    "# Show the figure\n",
    "fig.show()"
   ]
  },
  {
   "cell_type": "code",
   "execution_count": null,
   "metadata": {},
   "outputs": [],
   "source": [
    "# Create the base figure\n",
    "fig = go.Figure()\n",
    "\n",
    "# Add the bar graph of daily temperatures\n",
    "fig.add_trace(\n",
    "  go.Bar(x=temp_syd['Date'], y=temp_syd['Temp'], name='Daily Max Temperature'))\n",
    "\n",
    "# Add the monthly average line graph\n",
    "fig.add_trace(\n",
    "  go.Scatter(x=temp_syd_avg['Date'], y=temp_syd_avg['Average'], name='Average Monthly Temperature'))\n",
    "\n",
    "# Show the plot\n",
    "fig.show()"
   ]
  },
  {
   "source": [
    "## Buttons on the line chart"
   ],
   "cell_type": "markdown",
   "metadata": {}
  },
  {
   "cell_type": "code",
   "execution_count": null,
   "metadata": {},
   "outputs": [],
   "source": [
    "# Create the basic line chart\n",
    "fig = px.line(data_frame=tesla, x='Date', y='Open', title=\"Tesla Opening Stock Prices\")\n",
    "\n",
    "# Create the financial buttons\n",
    "fin_buttons = [\n",
    "  {'count': 7, 'label': \"1WTD\", 'step': 'day', 'stepmode': 'todate'},\n",
    "  {'count': 6, 'label': \"6MTD\", 'step': 'month', 'stepmode': 'todate'},\n",
    "  {'count': 1, 'label': \"YTD\", 'step': 'year', 'stepmode': 'todate'}\n",
    "]\n",
    "\n",
    "# Create the date range buttons & show the plot\n",
    "fig.update_layout({'xaxis': {'rangeselector': {'buttons': fin_buttons}}})\n",
    "fig.show()"
   ]
  },
  {
   "cell_type": "code",
   "execution_count": null,
   "metadata": {},
   "outputs": [],
   "source": [
    "# Create a simple bar chart\n",
    "fig = px.bar(data_frame=rain, x='Month', y='Rainfall')\n",
    "\n",
    "# Create the buttons\n",
    "my_buttons = [{'label': \"Bar plot\", 'method': \"update\", 'args': [{\"type\": \"bar\"}]},\n",
    "{'label': \"scatterplot\", 'method': \"update\", 'args': [{\"type\": \"scatter\", 'mode': 'markers'}]}]\n",
    "\n",
    "# Add buttons to the plot and show\n",
    "fig.update_layout({\n",
    "    'updatemenus': [{\n",
    "      'type': \"buttons\",'direction': 'down',\n",
    "      'x': 1.3,'y': 0.5,\n",
    "      'showactive': True,'active': 0,\n",
    "      'buttons': my_buttons}]})\n",
    "fig.show()"
   ]
  },
  {
   "cell_type": "code",
   "execution_count": null,
   "metadata": {},
   "outputs": [],
   "source": [
    "# Create the basic figure\n",
    "fig = go.Figure()\n",
    "\n",
    "# Add a trace per metric\n",
    "fig.add_trace(go.Bar(x=sales[\"Month\"], y=sales[\"Sales Volume\"], name='Sales Volume'))\n",
    "fig.add_trace(go.Bar(x=sales[\"Month\"], y=sales[\"Sales Value\"], name='Sales Value'))\n",
    "\n",
    "# Create annotations\n",
    "volume_annotations=[{'text': 'Oct was the best', 'showarrow': True, 'x': 'October', 'y': 71900 }]\n",
    "value_annotations=[{'text': 'Sept was the best' ,'showarrow': True, 'x': 'September', 'y': 345397 }]\n",
    "\n",
    "# Create buttons\n",
    "my_buttons = [\n",
    "{'label': \"By Sales Value\", 'method': \"update\", 'args': [{}, {\"annotations\": value_annotations}]},\n",
    "{'label': \"By Sales Volume\", 'method': \"update\", 'args': [{}, {\"annotations\": volume_annotations}]}\n",
    "]\n",
    "\n",
    "# Add the buttons\n",
    "fig.update_layout({\n",
    "    'updatemenus':[{\n",
    "            'type': \"buttons\",\n",
    "            'direction': ____,\n",
    "            'x': 1.3,'y': 0.5, 'buttons': ____\n",
    "            }]})\n",
    "fig.show()"
   ]
  },
  {
   "source": [
    "## Drop down buttons"
   ],
   "cell_type": "markdown",
   "metadata": {}
  },
  {
   "cell_type": "code",
   "execution_count": null,
   "metadata": {},
   "outputs": [],
   "source": [
    "# Create the basic figure\n",
    "fig = go.Figure()\n",
    "\n",
    "# Loop through the states\n",
    "for state in ['NSW', 'VIC', 'QLD']:\n",
    "  \t# Subset the DataFrame\n",
    "    df = pop_growth[pop_growth.State == state]\n",
    "    # Add a trace for each state subset\n",
    "    fig.add_trace(go.Bar(x=df['Local Government Area'], y=df['Change %'], name=state))\n",
    "\n",
    "# Create the buttons\n",
    "dropdown_buttons = [\n",
    "{'label': \"ALL\", 'method': \"update\", 'args': [{\"visible\": [True, True, True]}, {\"title\": \"ALL\"}]},\n",
    "{'label': \"NSW\", 'method': \"update\", 'args': [{\"visible\": [True, False, False]}, {\"title\": \"NSW\"}]},\n",
    "{'label': \"QLD\", 'method': \"update\", 'args': [{\"visible\": [False, True, False]}, {\"title\": \"QLD\"}]},\n",
    "{'label': \"VIC\", 'method': \"update\", 'args': [{\"visible\": [False, False, True]}, {\"title\": \"VIC\"}]},\n",
    "]\n",
    "\n",
    "# Update the figure to add dropdown menu\n",
    "fig.update_layout({\n",
    "  \t\t'updatemenus': [\n",
    "        {'active': 0, 'buttons': dropdown_buttons}\n",
    "        ]})\n",
    "\n",
    "# Show the plot\n",
    "fig.show()"
   ]
  },
  {
   "cell_type": "code",
   "execution_count": null,
   "metadata": {},
   "outputs": [],
   "source": [
    "# Create the basic figure\n",
    "fig = go.Figure()\n",
    "\n",
    "# Loop through the states\n",
    "for season in ['Autumn', 'Winter', 'Spring']:\n",
    "  \t# Subset the DataFrame\n",
    "    df = rain_pm[rain_pm.Season == season]\n",
    "    # Add a trace for each season\n",
    "    fig.add_trace(go.Bar(x=df[\"Month\"], y=df[\"Total Rainfall\"], name=season))\n",
    "    \n",
    "# Create the slider elements\n",
    "sliders = [\n",
    "    {'steps':[\n",
    "    {'method': 'update', 'label': 'Autumn', 'args': [{'visible': [True, False, False]}]},\n",
    "    {'method': 'update', 'label': 'Winter', 'args': [{'visible': [False, True, False]}]},\n",
    "    {'method': 'update', 'label': 'Spring', 'args': [{'visible': [False, False, True]}]}]}]\n",
    "\n",
    "# Update the figure to add sliders and show\n",
    "fig.update_layout({'sliders': sliders})\n",
    "\n",
    "# Show the plot\n",
    "fig.show()"
   ]
  }
 ]
}