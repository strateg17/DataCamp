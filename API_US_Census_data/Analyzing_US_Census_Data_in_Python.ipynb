{
 "metadata": {
  "language_info": {
   "codemirror_mode": {
    "name": "ipython",
    "version": 3
   },
   "file_extension": ".py",
   "mimetype": "text/x-python",
   "name": "python",
   "nbconvert_exporter": "python",
   "pygments_lexer": "ipython3",
   "version": 3
  },
  "orig_nbformat": 2
 },
 "nbformat": 4,
 "nbformat_minor": 2,
 "cells": [
  {
   "source": [
    "# **Analyzing US Census Data in Python**"
   ],
   "cell_type": "markdown",
   "metadata": {}
  },
  {
   "source": [
    "## **Decennial Census of Population and Housing**"
   ],
   "cell_type": "markdown",
   "metadata": {}
  },
  {
   "source": [
    "### **The basic API request**"
   ],
   "cell_type": "markdown",
   "metadata": {}
  },
  {
   "cell_type": "code",
   "execution_count": null,
   "metadata": {},
   "outputs": [],
   "source": [
    "import requests\n",
    "import pandas as pd"
   ]
  },
  {
   "cell_type": "code",
   "execution_count": null,
   "metadata": {},
   "outputs": [],
   "source": [
    "# Build base URL\n",
    "HOST = \"https://api.census.gov/data\"\n",
    "year = \"2010\"\n",
    "dataset = \"dec/sf1\"\n",
    "base_url = \"/\".join([HOST, year, dataset])\n",
    "\n",
    "# Specify Census variables and other predicates\n",
    "get_vars = [\"NAME\", \"P013001\", \"P037001\"]\n",
    "predicates = {}\n",
    "predicates[\"get\"] = \",\".join(get_vars)\n",
    "predicates[\"for\"] = \"state:*\"\n",
    "\n",
    "# Execute the request, examine text of response object\n",
    "r = requests.get(base_url, params=predicates)\n",
    "print(r.text)"
   ]
  },
  {
   "cell_type": "code",
   "execution_count": null,
   "metadata": {},
   "outputs": [],
   "source": [
    "# Import seaborn\n",
    "import seaborn as sns\n",
    "sns.set()\n",
    "\n",
    "# Construct the data frame\n",
    "col_names = [\"names\",\"median_age\",\"avg_family_size\",\"state\"]\n",
    "states = pd.DataFrame(columns = col_names, data = r.json()[1:])\n",
    "\n",
    "# Convert each column with numeric data to an appropriate type\n",
    "states[\"median_age\"] = states[\"median_age\"].astype(\"float\")\n",
    "states[\"avg_family_size\"] = states[\"avg_family_size\"].astype(\"float\")\n",
    "\n",
    "# Scatterplot with regression line\n",
    "sns.lmplot(x = \"avg_family_size\", y = \"median_age\", data = states)\n",
    "plt.show()"
   ]
  },
  {
   "cell_type": "code",
   "execution_count": null,
   "metadata": {},
   "outputs": [],
   "source": [
    "# Specify variables and execute API request\n",
    "get_vars = [\"NAME\", \"PCT021005\", \"PCT021015\"]\n",
    "predicates[\"get\"] = \",\".join(get_vars)\n",
    "r = requests.get(base_url, params=predicates)\n",
    "\n",
    "# Construct data frame\n",
    "col_names = [\"name\", \"in_adult\", \"in_juvenile\", \"state\"]\n",
    "states = pd.DataFrame(columns=col_names, data=r.json()[1:])\n",
    "states[[\"in_adult\", \"in_juvenile\"]] = states[[\"in_adult\", \"in_juvenile\"]].astype(int)\n",
    "\n",
    "# Calculate percentage of incarcerated male minors in adult facilities\n",
    "states[\"pct_in_adult\"] = 100 * states[\"in_juvenile\"] / states[\"in_adult\"]\n",
    "states.sort_values(by = ['pct_in_adult'], ascending = False, inplace = True)\n",
    "sns.stripplot(x = \"pct_in_adult\", y = \"name\", data = states)\n",
    "plt.show()"
   ]
  },
  {
   "cell_type": "code",
   "execution_count": null,
   "metadata": {},
   "outputs": [],
   "source": [
    "# Build dictionary of predicates\n",
    "get_vars = [\"NAME\", \"P001001\"] # <- total population\n",
    "predicates = {}\n",
    "predicates[\"get\"] = \",\".join(get_vars)\n",
    "predicates[\"for\"] = \"place:60000,61000\"\n",
    "predicates[\"in\"] = \"state:42\"\n",
    "\n",
    "# Execute the request\n",
    "r = requests.get(base_url, params=predicates)\n",
    "\n",
    "# Show the response text\n",
    "print(r.text)"
   ]
  },
  {
   "cell_type": "code",
   "execution_count": null,
   "metadata": {},
   "outputs": [],
   "source": [
    "# Build dictionary of predicates and execute the request\n",
    "predicates[\"for\"] = \"congressional district:*\"\n",
    "predicates[\"in\"] = \"state:42\"\n",
    "r = requests.get(base_url, params=predicates)\n",
    "\n",
    "# Construct the data frame\n",
    "col_names = [\"name\", \"avg_family_size\", \"state\", \"cd\"]\n",
    "cd = pd.DataFrame(columns=col_names, data=r.json()[1:])"
   ]
  },
  {
   "cell_type": "code",
   "execution_count": null,
   "metadata": {},
   "outputs": [],
   "source": [
    "# Build dictionary of predicates and execute the request\n",
    "predicates[\"for\"] = \"congressional district:*\"\n",
    "predicates[\"in\"] = \"state:42\"\n",
    "r = requests.get(base_url, params=predicates)\n",
    "\n",
    "# Construct the data frame\n",
    "col_names = [\"name\", \"avg_family_size\", \"state\", \"cd\"]\n",
    "cd = pd.DataFrame(columns=col_names, data=r.json()[1:])\n",
    "\n",
    "# Print the head of the \"avg_family_size\" column\n",
    "print(cd[\"avg_family_size\"].head())"
   ]
  },
  {
   "cell_type": "code",
   "execution_count": null,
   "metadata": {},
   "outputs": [],
   "source": [
    "# Build dictionary of predicates and execute the request\n",
    "predicates = {}\n",
    "predicates[\"get\"] = \",\".join([\"NAME\",  \"P001001\"])\n",
    "predicates[\"for\"] = \"zip code tabulation area (or part):*\" \n",
    "predicates[\"in\"] = \"state:01\"\n",
    "r = requests.get(base_url, params=predicates)\n",
    "\n",
    "# Construct the data frame\n",
    "col_names = [\"name\", \"total_pop\", \"state\", \"zcta\"]\n",
    "zctas = pd.DataFrame(columns=col_names, data=r.json()[1:])\n",
    "zctas[\"total_pop\"] = zctas[\"total_pop\"].astype(int)\n",
    "\n",
    "# Set multilevel index from GEOIDs and print the head\n",
    "zctas.set_index([\"state\", \"zcta\"], inplace = True)\n",
    "print(zctas.head())"
   ]
  },
  {
   "cell_type": "code",
   "execution_count": null,
   "metadata": {},
   "outputs": [],
   "source": [
    "# Loop over years 2011 to 2017\n",
    "for year in range(2011,2018):\n",
    "    base_url = \"/\".join([HOST, str(year), dataset])\n",
    "    r = requests.get(base_url, params=predicates)\n",
    "    df = pd.DataFrame(columns=col_names, data=r.json()[1:])    \n",
    "    # Add column to df to hold year value, append df to collector dfs\n",
    "    df[\"year\"] = year\n",
    "    dfs.append(df)\n",
    "\n",
    "# Concatenate all data frames, fix column type\n",
    "states = pd.concat(dfs)\n",
    "states[\"median_home_value\"] = states[\"median_home_value\"].astype(int)\n",
    "\n",
    "sns.lineplot(x=\"year\", y=\"median_home_value\", data = states)\n",
    "plt.show()"
   ]
  },
  {
   "cell_type": "code",
   "execution_count": null,
   "metadata": {},
   "outputs": [],
   "source": [
    "# Loop over years 2011 to 2017\n",
    "for year in range(2011,2018):\n",
    "    base_url = \"/\".join([HOST, str(year), dataset])\n",
    "    r = requests.get(base_url, params=predicates)\n",
    "    df = pd.DataFrame(columns=col_names, data=r.json()[1:])    \n",
    "    # Add column to df to hold year value, append df to collector dfs\n",
    "    df[\"year\"] = year\n",
    "    dfs.append(df)\n",
    "\n",
    "# Concatenate all data frames, fix column type\n",
    "states = pd.concat(dfs)\n",
    "states[\"median_home_value\"] = states[\"median_home_value\"].astype(int)\n",
    "\n",
    "sns.lineplot(x=\"year\", y=\"median_home_value\", data = states)\n",
    "plt.show()"
   ]
  },
  {
   "source": [
    "## **Margins and errors**"
   ],
   "cell_type": "markdown",
   "metadata": {}
  },
  {
   "cell_type": "code",
   "execution_count": null,
   "metadata": {},
   "outputs": [],
   "source": [
    "# Import graphics packages\n",
    "import seaborn as sns\n",
    "sns.set()\n",
    "import matplotlib.pyplot as plt\n",
    "\n",
    "# Calculate and inspect Relative Margin of Error\n",
    "philly[\"rmoe\"] = 100 * philly[\"median_home_value_moe\"] / philly[\"median_home_value\"]\n",
    "print(philly)\n",
    "\n",
    "# Create line plot with error bars of 90% MOE\n",
    "plt.errorbar(\"year\", \"median_home_value\", yerr = \"median_home_value_moe\", data = philly)\n",
    "plt.show()"
   ]
  },
  {
   "source": [
    "### **Significance of Difference of Estimates**"
   ],
   "cell_type": "markdown",
   "metadata": {}
  },
  {
   "cell_type": "code",
   "execution_count": null,
   "metadata": {},
   "outputs": [],
   "source": [
    "# Set the critical Z score for 90% confidence, prepare message\n",
    "Z_CRIT = 1.645\n",
    "msg = \"Philadelphia median home values in {} were {}significantly different from {}.\"\n",
    "for year in range(2012, 2018):\n",
    "    # Assign current and prior year's median home value to variables\n",
    "    x1 = int(philly[philly[\"year\"] == year][\"median_home_value\"])\n",
    "    x2 = int(philly[philly[\"year\"] == year - 1][\"median_home_value\"])\n",
    "    \n",
    "    # Calculate standard error as 90% MOE / critical Z score\n",
    "    se_x1 = float(philly[philly[\"year\"] == year][\"median_home_value_moe\"] / Z_CRIT)\n",
    "    se_x2 = float(philly[philly[\"year\"] == year - 1][\"median_home_value_moe\"] / Z_CRIT)\n",
    "    \n",
    "    # Calculate two-sample z-statistic, output message if greater than critical Z score\n",
    "    z = (x1 - x2) / sqrt(se_x1**2 + se_x2**2)\n",
    "    print(msg.format(year, \"\" if abs(z) > Z_CRIT else \"not \", year - 1))"
   ]
  },
  {
   "source": [
    "### **Significance of Difference of Proportions**"
   ],
   "cell_type": "markdown",
   "metadata": {}
  },
  {
   "cell_type": "code",
   "execution_count": null,
   "metadata": {},
   "outputs": [],
   "source": [
    "# Set the critical Z score for 90% confidence\n",
    "Z_CRIT = 1.645\n",
    "\n",
    "# Calculate share of bike commuting\n",
    "dc[\"bike_share\"] = dc[\"bike_est\"] / dc[\"total_est\"]\n",
    "\n",
    "# Calculate standard errors of the estimate from MOEs\n",
    "dc[\"se_bike\"] = dc[\"bike_moe\"] / Z_CRIT\n",
    "dc[\"se_total\"] = dc[\"total_moe\"] / Z_CRIT\n",
    "dc[\"se_p\"] = sqrt(dc[\"se_bike\"]**2 - dc[\"bike_share\"]**2 * dc[\"se_total\"]**2) / dc[\"total_est\"]\n",
    "\n",
    "# Calculate the two sample statistic between 2011 and 2017\n",
    "Z = (dc[dc[\"year\"] == 2017][\"bike_share\"] - dc[dc[\"year\"] == 2011][\"bike_share\"]) / \\\n",
    "    sqrt(dc[dc[\"year\"] == 2017][\"se_p\"]**2 + dc[dc[\"year\"] == 2011][\"se_p\"]**2)\n",
    "print(Z_CRIT < Z)"
   ]
  },
  {
   "source": [
    "## **Basic mapping with geopandas**"
   ],
   "cell_type": "markdown",
   "metadata": {}
  },
  {
   "cell_type": "code",
   "execution_count": null,
   "metadata": {},
   "outputs": [],
   "source": [
    "# Import geopandas\n",
    "import geopandas as gpd\n",
    "\n",
    "# Load geospatial data\n",
    "geo_state = gpd.read_file(\"states_internet.gpkg\")\n",
    "\n",
    "# View GeoDataFrame columns\n",
    "print(geo_state.columns)\n",
    "\n",
    "# Calculate percent of households with no internet\n",
    "geo_state[\"pct_no_internet\"] = 100 * geo_state[\"no_internet\"] / geo_state[\"total\"]\n",
    "\n",
    "# Create choropleth map using YlGnBu colormap\n",
    "geo_state.plot(column=\"pct_no_internet\", cmap=\"YlGnBu\")\n",
    "plt.show()"
   ]
  },
  {
   "cell_type": "code",
   "execution_count": null,
   "metadata": {},
   "outputs": [],
   "source": [
    "# Create point GeoDataFrame at centroid of states\n",
    "geo_state_pt = geo_state.copy()\n",
    "geo_state_pt[\"geometry\"] = geo_state_pt.centroid\n",
    "\n",
    "# Set basemap and create variable for markersize\n",
    "basemap = geo_state.plot(color = \"tan\", edgecolor = \"black\")\n",
    "ms = sqrt(geo_state_pt[\"internet\"]) / 5\n",
    "\n",
    "# Plot proportional symbols on top of basemap\n",
    "geo_state_pt.plot(ax = basemap, markersize = ms, color = \"lightgray\", edgecolor = \"darkgray\")\n",
    "plt.show()"
   ]
  },
  {
   "cell_type": "code",
   "execution_count": null,
   "metadata": {},
   "outputs": [],
   "source": [
    "# Create point GeoDataFrame at centroid of states\n",
    "geo_state_pt = geo_state.copy()\n",
    "geo_state_pt[\"geometry\"] = geo_state_pt.centroid\n",
    "\n",
    "# Calculate percentage of internet households with broadband\n",
    "geo_state[\"pct_broadband\"] = 100 * geo_state[\"broadband\"] / geo_state[\"internet\"]\n",
    "\n",
    "# Set choropleth basemap\n",
    "basemap = geo_state.plot(column = \"pct_broadband\", cmap = \"YlGnBu\")\n",
    "\n",
    "# Plot transparent proportional symbols on top of basemap\n",
    "geo_state_pt.plot(ax = basemap, markersize = sqrt(geo_state[\"internet\"]) / 5, color = \"lightgray\", edgecolor = \"darkgray\", alpha = 0.7)\n",
    "plt.show()"
   ]
  },
  {
   "cell_type": "code",
   "execution_count": null,
   "metadata": {},
   "outputs": [],
   "source": [
    "# Median income below MSA median income\n",
    "bk_2000[\"low_mhi\"] = bk_2000[\"mhi\"] < bk_2000[\"mhi_msa\"]\n",
    "\n",
    "# Recent construction below MSA\n",
    "bk_2000[\"low_recent_build\"] = bk_2000[\"pct_recent_build\"] < bk_2000[\"pct_recent_build_msa\"]\n",
    "\n",
    "# Identify gentrifiable tracts\n",
    "bk_2000[\"gentrifiable\"] = (bk_2000[\"low_mhi\"]) & (bk_2000[\"low_recent_build\"])\n",
    "\n",
    "# Plot gentrifiable tracts\n",
    "bk_2000.plot(column = \"gentrifiable\", cmap = \"YlGn\")\n",
    "plt.show()"
   ]
  },
  {
   "cell_type": "code",
   "execution_count": null,
   "metadata": {},
   "outputs": [],
   "source": [
    "# Increase in percent BA greater than MSA\n",
    "bk_2010[\"increasing_education\"] = (bk_2010[\"pct_ba_2010\"] - bk_2010[\"pct_ba_2000\"]) > (bk_2010[\"pct_ba_msa_2010\"] - bk_2010[\"pct_ba_msa_2000\"])\n",
    "\n",
    "# Increase in house value\n",
    "bk_2010[\"increasing_house_value\"] = bk_2010[\"median_value_2010\"] > bk_2010[\"median_value_2000\"] * 1.2612\n",
    "\n",
    "# Identify gentryifying tracts\n",
    "bk_2010[\"gentrifying\"] = bk_2010[\"gentrifiable\"] & bk_2010[\"increasing_education\"] & bk_2010[\"increasing_house_value\"]\n",
    "\n",
    "# Plot gentrifying tracts\n",
    "bk_2010.plot(column = \"gentrifying\", cmap = \"YlOrRd\")\n",
    "plt.show()"
   ]
  },
  {
   "cell_type": "code",
   "execution_count": null,
   "metadata": {},
   "outputs": [],
   "source": [
    "# Create a basemap\n",
    "basemap = bk_2000.plot(color = \"white\", edgecolor = \"lightgray\")\n",
    "\n",
    "# Filter and plot gentrifiable tracts\n",
    "gentrifiable_tracts = bk_2000[bk_2000[\"gentrifiable\"]]\n",
    "gentrifiable_tracts.plot(ax = basemap, color = \"lightgray\")\n",
    "\n",
    "# Filter and plot gentrifying tracts\n",
    "gentrifying_tracts = bk_2010[bk_2010[\"gentrifying\"]]\n",
    "gentrifying_tracts.plot(ax = basemap, color = \"red\")\n",
    "plt.show()"
   ]
  }
 ]
}